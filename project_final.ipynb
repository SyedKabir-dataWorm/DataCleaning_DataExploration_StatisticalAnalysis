{
 "cells": [
  {
   "cell_type": "code",
   "execution_count": 1,
   "metadata": {},
   "outputs": [],
   "source": [
    "import datetime\n",
    "import pandas as pd\n",
    "purchased_item =[] # A list about purchased drinks for only one transaction.\n",
    "coin=[] #  A list that stores sales data for eachl buys  of one transaction.\n",
    "moneyrecord ={}# keys are date-time, values are transaction amount at that time\n",
    "purchaserecord ={}\n",
    "stockrecord ={}"
   ]
  },
  {
   "cell_type": "code",
   "execution_count": 2,
   "metadata": {},
   "outputs": [],
   "source": [
    "# Initial Setting of the machine from the inventory data provided by the machine owner (customer).\n",
    "\n",
    "def setmachine(stockormenu):\n",
    "    '''\n",
    "setmenu function takes one argument that can have any of the\n",
    "two values:'stock' or 'menu'. Input of the data is taken from \n",
    "machine owner by a text file.\n",
    "    '''\n",
    "    file = open(\"initial_inventory.txt\", \"r\")\n",
    "    keys =[]\n",
    "    price =[]\n",
    "    stock =[]\n",
    "    for aline in file:\n",
    "        values = aline.split()\n",
    "        keys.append(values[0])\n",
    "        price.append(float(values[1]))\n",
    "        stock.append(float(values[2]))\n",
    "    file.close()\n",
    "    if stockormenu=='stock':\n",
    "        return dict(zip(keys,stock))\n",
    "    elif stockormenu=='menu':\n",
    "        return dict(zip(keys,price))\n",
    "    else:\n",
    "        print('Not valid input for setting the machine. Select stock or menu')\n",
    "        "
   ]
  },
  {
   "cell_type": "code",
   "execution_count": 3,
   "metadata": {},
   "outputs": [
    {
     "name": "stdout",
     "output_type": "stream",
     "text": [
      "{'coke': 2.0, 'juice': 2.0, 'tea': 2.5, 'coffee': 2.5, 'fanta': 2.0, 'milk': 0.5, 'sugar': 0.5}\n"
     ]
    }
   ],
   "source": [
    "mainmenu = setmachine('menu')\n",
    "main_stock = setmachine('stock')\n",
    "print(mainmenu)"
   ]
  },
  {
   "cell_type": "code",
   "execution_count": 4,
   "metadata": {},
   "outputs": [
    {
     "data": {
      "text/plain": [
       "\"\\nclass item:\\n    def __init__(self,drink,price,stock):\\n        self.drink = drink\\n        self.price = price\\n        self.stock = stock\\n\\ncoffee = item('Coffee',2,10)\\ntea = item('Tea',2,10)\\njuice = item('Juice',3,5)\\ncoke = item('Coke', 1,0)\\nsugar=item('Sugar', 0.5,50)\\nmilk = item('Milk', 0.5,20)\\n\\nmenu = [coffee, tea, juice, coke, sugar, milk]\\n\""
      ]
     },
     "execution_count": 4,
     "metadata": {},
     "output_type": "execute_result"
    }
   ],
   "source": [
    "\"\"\"\n",
    "class item:\n",
    "    def __init__(self,drink,price,stock):\n",
    "        self.drink = drink\n",
    "        self.price = price\n",
    "        self.stock = stock\n",
    "\n",
    "coffee = item('Coffee',2,10)\n",
    "tea = item('Tea',2,10)\n",
    "juice = item('Juice',3,5)\n",
    "coke = item('Coke', 1,0)\n",
    "sugar=item('Sugar', 0.5,50)\n",
    "milk = item('Milk', 0.5,20)\n",
    "\n",
    "menu = [coffee, tea, juice, coke, sugar, milk]\n",
    "\"\"\""
   ]
  },
  {
   "cell_type": "code",
   "execution_count": 5,
   "metadata": {},
   "outputs": [],
   "source": [
    "def displaymenu():\n",
    "    for item in mainmenu:\n",
    "        if main_stock[item] ==0:\n",
    "            print(f'Sorry, no {item} available today !')\n",
    "        else:\n",
    "            if item == 'sugar' or item == 'milk':\n",
    "                print(f'{item} price is $ {mainmenu[item]} extra if you choose for tea or coffee')\n",
    "            else:\n",
    "                print(f'{item} price is  $ {mainmenu[item]}')\n",
    "    "
   ]
  },
  {
   "cell_type": "code",
   "execution_count": 6,
   "metadata": {},
   "outputs": [],
   "source": [
    "def totalcost():\n",
    "    cost =0\n",
    "    for i in purchased_item:\n",
    "        cost = cost+mainmenu[i]\n",
    "    return cost"
   ]
  },
  {
   "cell_type": "code",
   "execution_count": 7,
   "metadata": {},
   "outputs": [],
   "source": [
    "def totalsales():\n",
    "    sales = 0\n",
    "    for s in moneyrecord:\n",
    "        sales+=s\n",
    "    return sales"
   ]
  },
  {
   "cell_type": "code",
   "execution_count": 8,
   "metadata": {},
   "outputs": [],
   "source": [
    "def deposit():\n",
    "    coins=0\n",
    "    for i in range(len(coin)):\n",
    "        coins=coins+coin[i]\n",
    "    return coins"
   ]
  },
  {
   "cell_type": "code",
   "execution_count": 9,
   "metadata": {},
   "outputs": [],
   "source": [
    "def lowbalance(items):\n",
    "    transact= input('You are in low balance. Do you wanna buy? Then press \"y\".'+'\\n'+\n",
    "                    'To change your order press \"ch\" '+'\\n'+\n",
    "                    'To cancel transaction or for no response, press any key except y & ch         ').lower()\n",
    "    if transact == 'y':                                  \n",
    "        morecoins = float(input(f'You need {totalcost()-deposit()+mainmenu[items]} dollars more to buy {items}.'\n",
    "                                +'\\n'+ 'Please enter more coins:                                 '))/100\n",
    "        coin_validity(morecoins)\n",
    "        drinks_func(items)\n",
    "    elif transact=='ch':\n",
    "        another_drink()\n",
    "    else:\n",
    "        change_func()   "
   ]
  },
  {
   "cell_type": "code",
   "execution_count": 10,
   "metadata": {},
   "outputs": [],
   "source": [
    "def milkandsugar():\n",
    "    print('wait please. Water is boiling'+'\\n'+'Would you like to add milk and sugar?')\n",
    "    if str(input('Do you need milk? Press \"y\" or \"n\"                                               ').lower())=='y':\n",
    "        if deposit()-totalcost()>= mainmenu['milk']:\n",
    "            print('ok, wait for a second!It will not take long. We are adding milk now.')\n",
    "            main_stock['milk'] = main_stock['milk']-1 \n",
    "            purchased_item.append('milk')\n",
    "        else:\n",
    "            lowbalance('milk')\n",
    "            purchased_item.append('milk')\n",
    "            print('ok, wait for a second! we are adding milk.')             \n",
    "    else:\n",
    "        print('ok, no milk.')\n",
    "    \n",
    "    sugar_add =str(input('Do you need to add sugar automatically? Press \"y\" or \"n\" or \"manual\"           ').lower())\n",
    "    if sugar_add =='y' or sugar_add=='manual':\n",
    "        if deposit()-totalcost()>= mainmenu['sugar']:\n",
    "            if sugar_add =='y':\n",
    "                print('ok, wait for a second!It will not take long. we are adding sugar automatically.')\n",
    "            else:\n",
    "                print('Your drink is stored. Collect sugar. Then add manually')\n",
    "            main_stock['sugar'] = main_stock['sugar']-1\n",
    "            purchased_item.append('sugar')\n",
    "        else:\n",
    "            lowbalance('sugar')\n",
    "            if sugar_add =='y':\n",
    "                print('ok, wait for a second!It will not take long. we are adding sugar automatically.')\n",
    "            else:\n",
    "                print('Your drink is stored. Collect sugar. Then add manually')       \n",
    "    else:\n",
    "        print('ok, no sugar.')"
   ]
  },
  {
   "cell_type": "code",
   "execution_count": 11,
   "metadata": {},
   "outputs": [],
   "source": [
    "def change_func():  \n",
    "    change = deposit()-totalcost()\n",
    "    if purchased_item ==[]:\n",
    "        print(f\"You paid {deposit()} dollars and you bought nothing\" +'\\n'+\n",
    "              f'Thank you. Hope to buy next time. Your change is {change} dollars ')\n",
    "        print(\"Take your change please\")\n",
    "        print(\"Thank you.\")\n",
    "    else:\n",
    "        moneyrecord[datetime.datetime.now().strftime(\"%d/%m/%Y     %H:%M:%S\")] = totalcost()\n",
    "        purchaserecord[datetime.datetime.now().strftime(\"%d/%m/%Y     %H:%M:%S\")]=purchased_item\n",
    "        stockrecord[datetime.datetime.now().strftime(\"%d/%m/%Y     %H:%M:%S\")]= main_stock\n",
    "        print(f\"You paid {deposit()} dollars and you bought this drinks:{purchased_item}\" +'\\n'+\n",
    "          f\"Your total purchased amount is {totalcost()} dollars. So Your change is: {change} dollars\")\n",
    "        print(\"Take your change please\")\n",
    "        print(\"Thank you for buyeing. Goodbye\")\n",
    "        owner_record()\n",
    "        restart()"
   ]
  },
  {
   "cell_type": "code",
   "execution_count": 12,
   "metadata": {},
   "outputs": [],
   "source": [
    "def another_drink():\n",
    "    j= str(input('Do you want another drink: y or n?                                              ')).lower()\n",
    "    if j=='y':\n",
    "        print(drink_selection())  \n",
    "    else:\n",
    "        print(change_func())\n",
    "    "
   ]
  },
  {
   "cell_type": "code",
   "execution_count": 13,
   "metadata": {},
   "outputs": [],
   "source": [
    "def no_stock():\n",
    "    print('We are sorry, the item is not in stock; do you need another drink?')\n",
    "    item= str(input('Do not want another drink? please select \"n\"'+'\\n'+\n",
    "                    'Or press any key to continue :                                              ')).lower()\n",
    "    if item =='n':\n",
    "        change_func()\n",
    "    else: \n",
    "        #item=newitem\n",
    "        drink_selection()\n",
    "            "
   ]
  },
  {
   "cell_type": "code",
   "execution_count": 14,
   "metadata": {},
   "outputs": [],
   "source": [
    "def not_in_menu(item):\n",
    "    if item not in mainmenu:\n",
    "            print('Sorry, your selection is not in the list.'+'\\n'+\n",
    "                  'Please select only listed drinks from the menu.')\n",
    "            x= drink_selection()\n",
    "    else:\n",
    "            x= change_func()\n",
    "    return x"
   ]
  },
  {
   "cell_type": "code",
   "execution_count": 15,
   "metadata": {},
   "outputs": [],
   "source": [
    "def coin_validity(penny):\n",
    "    coinlist = [.1,.2,.5,1,2]\n",
    "    if penny not in coinlist:\n",
    "        print('Sorry, we can take only specific coins.')\n",
    "        penny = (float(input('Please enter your coins. Allowable coins are:'+'\\n'+\n",
    "                            '10cents,20cents,50cents,100cents,200cents                             '))/100)\n",
    "    coin.append(penny)\n"
   ]
  },
  {
   "cell_type": "code",
   "execution_count": 16,
   "metadata": {},
   "outputs": [],
   "source": [
    "def show_menu():\n",
    "    menuwant=input('Do you want to see menu now, then press \"y\"?'+'\\n'+\n",
    "                   'Or want to cancel? press any key                                       ')\n",
    "    if menuwant == 'y':\n",
    "            print('Here is the menu for your drinks ')\n",
    "            displaymenu()\n",
    "    else:\n",
    "        print(\"Goodbye\")\n",
    "    drink_selection()"
   ]
  },
  {
   "cell_type": "code",
   "execution_count": 17,
   "metadata": {},
   "outputs": [],
   "source": [
    "def drink_selection():\n",
    "    displaymenu()\n",
    "    item = str(input(\"Please select your drinks. For cancellation, press 'cancel':                       \")).lower()\n",
    "    if item!='cancel':\n",
    "        print(f'Cost of your selected drink: {item} is ${mainmenu[item]}')#U-003Cost of the selected item is displayed\n",
    "    else:\n",
    "        change_func()\n",
    "    drink_confirmation(item)"
   ]
  },
  {
   "cell_type": "code",
   "execution_count": 18,
   "metadata": {},
   "outputs": [],
   "source": [
    "def drink_confirmation(item):\n",
    "    if item in mainmenu and item!='cancel':                                    \n",
    "        confirm = str(input('Do you wanna proceed with your buys? press \"y\"'+'\\n'+ \n",
    "                        'Otherwise press \"ch\" for change' +\n",
    "                        '\\n'+'or press \"c\" to cancel                                              ')).lower()\n",
    "        \n",
    "        if confirm == 'y': #U-004 Coin must be inserted to get the product\n",
    "            initialcoins = (float(input('Please enter your coins. Allowable coins are:'+'\\n'+\n",
    "                                    '10cents,20cents,50cents,100cents,200cents                      '))/100)\n",
    "            coin_validity(initialcoins)\n",
    "            drinks_func(item)\n",
    "        \n",
    "        elif confirm == 'ch':\n",
    "            print('Do you want to change purchasing? Then select new item ')\n",
    "            item = str(input('Please select your drinks:                                            ')).lower()\n",
    "            drink_confirmation(item)\n",
    "        \n",
    "        else: # U-005, The transaction shall be canceled if required\n",
    "            change_func() \n",
    "    else:\n",
    "        if item =='cancel': #item not in mainmenu\n",
    "            change_func()   \n",
    "        else:\n",
    "            not_in_menu(item)"
   ]
  },
  {
   "cell_type": "code",
   "execution_count": 19,
   "metadata": {},
   "outputs": [],
   "source": [
    "def drinks_func(item):\n",
    "        if main_stock[item]!=0:                           # when stock available\n",
    "            if deposit()-totalcost()>= mainmenu[item]:\n",
    "                \n",
    "                main_stock[item] = main_stock[item]-1\n",
    "                purchased_item.append(item)\n",
    "                                                \n",
    "                if item =='tea' or item =='coffee':       # choosing milk and sugar for tea and coffee.\n",
    "                    print(milkandsugar())\n",
    "                \n",
    "                print(f'So far total costing is {totalcost()}'+'\\n'+ \n",
    "                      f'So far, you purchased {purchased_item} drinks.'+'\\n'\n",
    "                      f'and your current balance is {deposit()-totalcost()} dollars')  \n",
    "                \n",
    "                another_drink()     # Choosing another drink \n",
    "            else:\n",
    "                lowbalance(item)   # if user is on low-balance \n",
    "                              \n",
    "        else:                     # zero stock condition\n",
    "            no_stock()        \n"
   ]
  },
  {
   "cell_type": "code",
   "execution_count": 20,
   "metadata": {},
   "outputs": [],
   "source": [
    "def restart():\n",
    "    while True:\n",
    "        answer=input(\"Please press 'y' or 'n' to commence a new transaction:              \")\n",
    "        if answer not in ('y', 'n'):\n",
    "            print(\"Invalid input. select 'y' or 'n'\")\n",
    "            restart()\n",
    "        if answer == 'y':\n",
    "            purchased_item.clear()\n",
    "            coin.clear()\n",
    "            print('Welcome to the vending machine.'+'\\n'+ \n",
    "                  'This machine accepts coins from 10 cents to 2 dollars only.')\n",
    "            show_menu()\n",
    "        else:\n",
    "            print(\"Goodbye\")\n",
    "            break\n",
    "  "
   ]
  },
  {
   "cell_type": "markdown",
   "metadata": {},
   "source": [
    "\n",
    "## User Interface\n"
   ]
  },
  {
   "cell_type": "code",
   "execution_count": 21,
   "metadata": {},
   "outputs": [],
   "source": [
    "# restart()"
   ]
  },
  {
   "cell_type": "markdown",
   "metadata": {},
   "source": [
    "# Customer Requirements"
   ]
  },
  {
   "cell_type": "code",
   "execution_count": 22,
   "metadata": {},
   "outputs": [],
   "source": [
    "def stock_alert():\n",
    "    initial_stock =setmachine('stock')\n",
    "    for stock in main_stock: \n",
    "        if main_stock[stock]==0:\n",
    "            print(f'ALERT! There is no {stock} in the machine. Please refil right now.')\n",
    "        "
   ]
  },
  {
   "cell_type": "code",
   "execution_count": 23,
   "metadata": {},
   "outputs": [],
   "source": [
    "def reset():\n",
    "    response = input('Do you want a factory re-set, press f?' +'\\n'+\n",
    "                     'Or continue running? press any key                        ')\n",
    "    if response == 'f':\n",
    "        print('Attention, Machine is resetting to factory re-set.' +'\\n'+\n",
    "              'Please take the record of your business transactions. All data shall be erased')\n",
    "        purchased_item.clear()\n",
    "        coin.clear()\n",
    "        mainmenu.clear()\n",
    "        main_stock.clear()\n",
    "    else:\n",
    "        print('Machine is in good condition')\n",
    "    return response"
   ]
  },
  {
   "cell_type": "code",
   "execution_count": 24,
   "metadata": {},
   "outputs": [],
   "source": [
    "def machine_active():\n",
    "    if reset()!='f':\n",
    "        print('It is running smoothlyly')\n",
    "    else:\n",
    "        print('Sorry, the machine is not in service')\n",
    "        print(\"Goodbye\")  "
   ]
  },
  {
   "cell_type": "code",
   "execution_count": 25,
   "metadata": {},
   "outputs": [],
   "source": [
    "import pandas as pd\n",
    "def owner_record():\n",
    "    recordFile = pd.DataFrame(moneyrecord.items(), columns=['Date_Time', 'Sales_history ($)'])\n",
    "    recordFile['Purchased_List'] = recordFile['Date_Time'].map(purchaserecord)\n",
    "    recordFile['Stock_of_items'] = recordFile['Date_Time'].map(stockrecord)\n",
    "    recordFile.to_csv(\"records\", sep='\\t', encoding='utf-8')\n",
    "    print(recordFile)\n",
    "    "
   ]
  },
  {
   "cell_type": "code",
   "execution_count": 26,
   "metadata": {},
   "outputs": [],
   "source": [
    "def customer():\n",
    "    print('Welcome to the vending machine.'+'\\n'+ \n",
    "          'This machine accepts coins from 10 cents to 2 dollars only.')\n",
    "    machine_active()\n",
    "    stock_alert()\n",
    "    search_record = input('Do you need the updated sales and stock data? y or n                ').lower()\n",
    "    if search_record=='y':\n",
    "        owner_record()\n",
    "        print('You can see records here. You will have a record.csv file also in the database. Please check')\n",
    "    else:\n",
    "        print('Ok. you can have that later.') \n",
    "        \n",
    "    "
   ]
  },
  {
   "cell_type": "markdown",
   "metadata": {},
   "source": [
    "## Testing"
   ]
  },
  {
   "cell_type": "code",
   "execution_count": 27,
   "metadata": {},
   "outputs": [],
   "source": [
    "### U-001"
   ]
  },
  {
   "cell_type": "code",
   "execution_count": null,
   "metadata": {},
   "outputs": [
    {
     "name": "stdout",
     "output_type": "stream",
     "text": [
      "Please press 'y' or 'n' to commence a new transaction:              y\n",
      "Welcome to the vending machine.\n",
      "This machine accepts coins from 10 cents to 2 dollars only.\n",
      "Do you want to see menu now, then press \"y\"?\n",
      "Or want to cancel? press any key                                       y\n",
      "Here is the menu for your drinks \n",
      "coke price is  $ 2.0\n",
      "juice price is  $ 2.0\n",
      "tea price is  $ 2.5\n",
      "coffee price is  $ 2.5\n",
      "Sorry, no fanta available today !\n",
      "milk price is $ 0.5 extra if you choose for tea or coffee\n",
      "sugar price is $ 0.5 extra if you choose for tea or coffee\n",
      "coke price is  $ 2.0\n",
      "juice price is  $ 2.0\n",
      "tea price is  $ 2.5\n",
      "coffee price is  $ 2.5\n",
      "Sorry, no fanta available today !\n",
      "milk price is $ 0.5 extra if you choose for tea or coffee\n",
      "sugar price is $ 0.5 extra if you choose for tea or coffee\n"
     ]
    }
   ],
   "source": [
    "restart()"
   ]
  },
  {
   "cell_type": "code",
   "execution_count": null,
   "metadata": {},
   "outputs": [],
   "source": [
    "print(purchased_item)\n",
    "print(coin)"
   ]
  },
  {
   "cell_type": "code",
   "execution_count": null,
   "metadata": {},
   "outputs": [],
   "source": [
    "restart()"
   ]
  },
  {
   "cell_type": "code",
   "execution_count": null,
   "metadata": {},
   "outputs": [],
   "source": [
    "print(purchased_item)\n",
    "print(coin)"
   ]
  }
 ],
 "metadata": {
  "kernelspec": {
   "display_name": "Python 3",
   "language": "python",
   "name": "python3"
  },
  "language_info": {
   "codemirror_mode": {
    "name": "ipython",
    "version": 3
   },
   "file_extension": ".py",
   "mimetype": "text/x-python",
   "name": "python",
   "nbconvert_exporter": "python",
   "pygments_lexer": "ipython3",
   "version": "3.8.5"
  }
 },
 "nbformat": 4,
 "nbformat_minor": 4
}
